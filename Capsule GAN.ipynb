{
 "cells": [
  {
   "cell_type": "markdown",
   "metadata": {},
   "source": [
    "## Capsule GAN "
   ]
  },
  {
   "cell_type": "code",
   "execution_count": null,
   "metadata": {},
   "outputs": [],
   "source": [
    "# math library\n",
    "import numpy as np\n",
    "\n",
    "# Tensorflow library\n",
    "import tensorflow as tf\n",
    "from tensorflow.examples.tutorials.mnist import input_data\n",
    "mnist1 = input_data.read_data_sets('MNIST Dataset/')\n",
    "tf.reset_default_graph()\n",
    "from keras.layers.advanced_activations import LeakyReLU\n",
    "from keras.layers import BatchNormalization\n",
    "from keras.layers.convolutional import UpSampling2D\n",
    "from keras.layers import Lambda, Reshape\n",
    "import matplotlib.pyplot as plt\n",
    "\n",
    "from keras.datasets import mnist, cifar10\n",
    "\n",
    "# Device check\n",
    "from tensorflow.python.client import device_lib\n",
    "print('Devices: ', device_lib.list_local_devices())\n",
    "\n",
    "# GPU Check \n",
    "if not tf.test.gpu_device_name():\n",
    "    print('No GPU found')\n",
    "else:\n",
    "    print('Default GPU Device: {}' .format(tf.test.gpu_device_name()))\n",
    "    \n",
    "batch_size = 32\n",
    "n_noise = 100\n",
    "\n",
    "X_in = tf.placeholder(dtype=tf.float32, shape=[None, 28, 28, 1], name='X')\n",
    "noise = tf.placeholder(dtype=tf.float32, shape=[None, n_noise])\n",
    "\n",
    "keep_prob = tf.placeholder(dtype=tf.float32, name='keep_prob')\n",
    "is_training = tf.placeholder(dtype=tf.bool, name='is_training')\n",
    "\n",
    "def binary_cross_entropy(x, z):\n",
    "    eps = 1e-12\n",
    "    return (-(x * tf.log(z + eps) + (1. - x) * tf.log(1. - z + eps)))"
   ]
  },
  {
   "cell_type": "markdown",
   "metadata": {},
   "source": [
    "\n",
    "## Loading The Data"
   ]
  },
  {
   "cell_type": "code",
   "execution_count": null,
   "metadata": {},
   "outputs": [],
   "source": [
    "def load_dataset(dataset, width, height, channels):\n",
    "    \n",
    "    if dataset == 'mnist':\n",
    "        # Load the MNIST data\n",
    "        (X_train, y_train), (X_test, y_test) = mnist.load_data()\n",
    "        \n",
    "        # Rescale -1 to 1\n",
    "        X_train = (X_train.astype(np.float32) - 127.5) / 127.5\n",
    "        X_train = np.expand_dims(X_train, axis = 3)\n",
    "        \n",
    "    # Defining input dims\n",
    "    img_rows = width \n",
    "    img_cols = height\n",
    "    channels = channels\n",
    "    img_shape = [img_rows, img_cols, channels]\n",
    "    \n",
    "    return X_train, img_shape \n",
    "\n",
    "dataset_, shape_ = load_dataset('mnist', 28, 28, 1)\n",
    "print(\"Dataset shape: \" +str(dataset_.shape) + \" Image shape: \" +str(shape_))"
   ]
  },
  {
   "cell_type": "markdown",
   "metadata": {
    "collapsed": true
   },
   "source": [
    "## Squash Function"
   ]
  },
  {
   "cell_type": "code",
   "execution_count": null,
   "metadata": {
    "collapsed": true
   },
   "outputs": [],
   "source": [
    "def squash(vectors, axis = 1):\n",
    "    epsilon = 1e-07\n",
    "    s_squared_norm = tf.reduce_sum(tf.square(vectors), axis, keep_dims=True)\n",
    "    scale = s_squared_norm / (1 + s_squared_norm) / tf.sqrt(s_squared_norm +epsilon)\n",
    "    return scale * vectors"
   ]
  },
  {
   "cell_type": "markdown",
   "metadata": {},
   "source": [
    "## Defining the model"
   ]
  },
  {
   "cell_type": "code",
   "execution_count": null,
   "metadata": {
    "collapsed": true
   },
   "outputs": [],
   "source": [
    "# discriminator structure \n",
    "def discriminator(img, phase = False, reuse = None):\n",
    "        \n",
    "    with tf.variable_scope('discriminator', reuse = reuse):\n",
    "        \n",
    "        x = tf.reshape(img, shape=[-1, 28, 28, 1])    \n",
    "        x = tf.layers.conv2d(x, kernel_size=9, filters=256, strides=1, padding='VALID')\n",
    "        print(x.shape)\n",
    "        x = LeakyReLU()(x)\n",
    "        print(x.shape)\n",
    "        \n",
    "        x = tf.contrib.layers.batch_norm(x, center = True, scale = True, is_training = phase, scope = 'bn')\n",
    "    \n",
    "        # Primary Capsule \n",
    "        x = tf.contrib.layers.conv2d(x, num_outputs = 8 * 32, kernel_size = 9, stride = 2, padding = 'VALID')\n",
    "        print(x.shape)\n",
    "        x = Reshape(target_shape=[-1, 8], name='primarycap_reshape')(x)\n",
    "        x = Lambda(squash, name = 'primary_squash')(x)\n",
    "        \n",
    "        x = tf.contrib.layers.batch_norm(x, center = True, scale = True, is_training = phase, scope = 'bn1')\n",
    "        print(x.shape)\n",
    "\n",
    "        # Flattening the layers\n",
    "        x = tf.contrib.layers.flatten(x) \n",
    "        print(x.shape)\n",
    "        uhat = tf.layers.dense(x, 160, bias_initializer=tf.zeros_initializer(), kernel_initializer = tf.keras.initializers.he_uniform(seed = 123))\n",
    "        print(uhat.shape)\n",
    "\n",
    "        # Routing by agreement Round 1\n",
    "        c = tf.nn.softmax(uhat)\n",
    "        c = tf.layers.dense(c, 160) #made a mistake it was x\n",
    "        x = tf.multiply(uhat, c)\n",
    "        s_j = LeakyReLU()(x)\n",
    "        print(s_j.shape)\n",
    "\n",
    "        # Routing by agreement Round 2\n",
    "        c = tf.nn.softmax(s_j)\n",
    "        c = tf.layers.dense(c, 160)\n",
    "        x = tf.multiply(uhat, c)\n",
    "        s_j = LeakyReLU()(x)\n",
    "        print(s_j.shape)\n",
    "\n",
    "        # Routing by agreement Round 3\n",
    "        c = tf.nn.softmax(s_j)\n",
    "        c = tf.layers.dense(c, 160)\n",
    "        x = tf.multiply(uhat, c)\n",
    "        s_j = LeakyReLU()(x)\n",
    "        print(s_j.shape)\n",
    "\n",
    "        pred = tf.layers.dense(s_j, 1, activation = tf.nn.sigmoid)\n",
    "        print(pred.shape)\n",
    "        return pred\n",
    "    "
   ]
  },
  {
   "cell_type": "code",
   "execution_count": null,
   "metadata": {
    "collapsed": true
   },
   "outputs": [],
   "source": [
    "# Generator model\n",
    "def generator(noise, keep_prob = keep_prob, is_training = is_training):\n",
    "    \n",
    "    x = noise \n",
    "    momentum = 0.8    \n",
    "    \n",
    "    with tf.variable_scope(\"generator\", reuse=None):           \n",
    "        print(noise.shape)\n",
    "        x = tf.layers.dense(x, units=128 * 7 * 7, activation=tf.nn.relu)  \n",
    "        print(x.shape)\n",
    "        x = Reshape((7, 7, 128))(x)\n",
    "        x = tf.contrib.layers.batch_norm(x, is_training=is_training, decay=momentum)          \n",
    "        print(x.shape)\n",
    "                \n",
    "        x = tf.layers.conv2d_transpose(x, kernel_size=3, filters=128, strides=2, padding='same', activation=tf.nn.relu)\n",
    "        print(x.shape)\n",
    "        x = tf.contrib.layers.batch_norm(x, is_training=is_training, decay=momentum)\n",
    "        print(x.shape)\n",
    "        \n",
    "        x = tf.layers.conv2d_transpose(x, kernel_size=3, filters=64, strides=2, padding='same', activation=tf.nn.relu)                \n",
    "        print(x.shape)\n",
    "        x = tf.contrib.layers.batch_norm(x, is_training=is_training, decay=momentum)\n",
    "        print(x.shape)\n",
    "        \n",
    "        x = tf.layers.conv2d_transpose(x, kernel_size=3, filters=1, strides=1, padding='same', activation=tf.nn.tanh)        \n",
    "        print(x.shape)\n",
    "                \n",
    "        return x "
   ]
  },
  {
   "cell_type": "code",
   "execution_count": null,
   "metadata": {},
   "outputs": [],
   "source": [
    "g = generator(noise, keep_prob, is_training)\n",
    "d_real = discriminator(X_in)\n",
    "d_fake = discriminator(g, reuse=True)\n",
    "\n",
    "vars_g = [var for var in tf.trainable_variables() if var.name.startswith(\"generator\")]\n",
    "vars_d = [var for var in tf.trainable_variables() if var.name.startswith(\"discriminator\")]\n",
    "\n",
    "d_reg = tf.contrib.layers.apply_regularization(tf.contrib.layers.l2_regularizer(1e-6), vars_d)\n",
    "g_reg = tf.contrib.layers.apply_regularization(tf.contrib.layers.l2_regularizer(1e-6), vars_g)\n",
    "\n",
    "loss_d_real = binary_cross_entropy(tf.ones_like(d_real), d_real)\n",
    "loss_d_fake = binary_cross_entropy(tf.zeros_like(d_fake), d_fake)\n",
    "loss_g = tf.reduce_mean(binary_cross_entropy(tf.ones_like(d_fake), d_fake))\n",
    "loss_d = tf.reduce_mean(0.5 * (loss_d_real + loss_d_fake))\n",
    "update_ops = tf.get_collection(tf.GraphKeys.UPDATE_OPS)\n",
    "with tf.control_dependencies(update_ops):\n",
    "    #optimizer_d = tf.train.RMSPropOptimizer(learning_rate=0.00015).minimize(loss_d + d_reg, var_list=vars_d)\n",
    "    #optimizer_g = tf.train.RMSPropOptimizer(learning_rate=0.00015).minimize(loss_g + g_reg, var_list=vars_g)\n",
    "    optimizer_d = tf.train.AdamOptimizer(learning_rate=0.0002).minimize(loss_d + d_reg, var_list=vars_d)\n",
    "    optimizer_g = tf.train.AdamOptimizer(learning_rate=0.0002).minimize(loss_g + g_reg, var_list=vars_g)\n",
    "    \n",
    "    \n",
    "sess = tf.Session()\n",
    "sess.run(tf.global_variables_initializer())"
   ]
  },
  {
   "cell_type": "code",
   "execution_count": null,
   "metadata": {
    "collapsed": true
   },
   "outputs": [],
   "source": [
    "# Code by Parag Mital (github.com/pkmital/CADL)\n",
    "def montage(images):\n",
    "    if isinstance(images, list):\n",
    "        images = np.array(images)\n",
    "    img_h = images.shape[1]\n",
    "    img_w = images.shape[2]\n",
    "    n_plots = int(np.ceil(np.sqrt(images.shape[0])))\n",
    "    m = np.ones((images.shape[1] * n_plots + n_plots + 1, images.shape[2] * n_plots + n_plots + 1)) * 0.5\n",
    "    for i in range(n_plots):\n",
    "        for j in range(n_plots):\n",
    "            this_filter = i * n_plots + j\n",
    "            if this_filter < images.shape[0]:\n",
    "                this_img = images[this_filter]\n",
    "                m[1 + i + i * img_h:1 + i + (i + 1) * img_h,\n",
    "                  1 + j + j * img_w:1 + j + (j + 1) * img_w] = this_img\n",
    "    return m"
   ]
  },
  {
   "cell_type": "code",
   "execution_count": null,
   "metadata": {},
   "outputs": [],
   "source": [
    "vals = 0\n",
    "\n",
    "for i in range(30000):\n",
    "    train_d = True\n",
    "    train_g = True\n",
    "    keep_prob_train = 0.6 # 0.5\n",
    "\n",
    "    print(\"Iteration: \", i)\n",
    "    n = np.random.uniform(0.0, 1.0, [batch_size, n_noise]).astype(np.float32)   \n",
    "    batch = [np.reshape(b, [28, 28, 1]) for b in mnist1.train.next_batch(batch_size=batch_size)[0]] \n",
    "    #x = tf.reshape(batch, shape=[-1, 28, 28, 1])\n",
    "\n",
    "    vals += 32\n",
    "    #print(\"hello\")\n",
    "    d_real_ls, d_fake_ls, g_ls, d_ls = sess.run([loss_d_real, loss_d_fake, loss_g, loss_d], \n",
    "                                                feed_dict={X_in: batch, noise: n, keep_prob: keep_prob_train, is_training:True})\n",
    "\n",
    "    d_real_ls = np.mean(d_real_ls)\n",
    "    d_fake_ls = np.mean(d_fake_ls)\n",
    "    g_ls = g_ls\n",
    "    d_ls = d_ls\n",
    "\n",
    "    if g_ls * 1.5 < d_ls:\n",
    "        train_g = False\n",
    "        pass\n",
    "    if d_ls * 2 < g_ls:\n",
    "        train_d = False\n",
    "        pass\n",
    "\n",
    "    if train_d:\n",
    "        sess.run(optimizer_d, feed_dict={noise: n, X_in: batch, keep_prob: keep_prob_train, is_training:True})\n",
    "\n",
    "\n",
    "    if train_g:\n",
    "        sess.run(optimizer_g, feed_dict={noise: n, keep_prob: keep_prob_train, is_training:True})\n",
    "\n",
    "    if not i % 50:\n",
    "        print (i, d_ls, g_ls, d_real_ls, d_fake_ls)\n",
    "        if not train_g:\n",
    "            print(\"not training generator\")\n",
    "        if not train_d:\n",
    "            print(\"not training discriminator\")\n",
    "        gen_img = sess.run(g, feed_dict = {noise: n, keep_prob: 1.0, is_training:False})\n",
    "        imgs = [img[:,:,0] for img in gen_img]\n",
    "        m = montage(imgs)\n",
    "        gen_img = m\n",
    "        plt.axis('off')\n",
    "        plt.imshow(gen_img, cmap='gray')\n",
    "        plt.show()"
   ]
  },
  {
   "cell_type": "code",
   "execution_count": null,
   "metadata": {},
   "outputs": [],
   "source": [
    "temp = dataset_[0:32]\n",
    "print(temp.shape)"
   ]
  },
  {
   "cell_type": "code",
   "execution_count": null,
   "metadata": {
    "collapsed": true
   },
   "outputs": [],
   "source": []
  }
 ],
 "metadata": {
  "kernelspec": {
   "display_name": "Python 3",
   "language": "python",
   "name": "python3"
  },
  "language_info": {
   "codemirror_mode": {
    "name": "ipython",
    "version": 3
   },
   "file_extension": ".py",
   "mimetype": "text/x-python",
   "name": "python",
   "nbconvert_exporter": "python",
   "pygments_lexer": "ipython3",
   "version": "3.5.3"
  }
 },
 "nbformat": 4,
 "nbformat_minor": 2
}
